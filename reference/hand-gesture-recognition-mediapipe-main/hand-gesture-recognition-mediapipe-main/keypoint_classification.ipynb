{
 "cells": [
  {
   "cell_type": "code",
   "execution_count": 519,
   "metadata": {},
   "outputs": [],
   "source": [
    "import csv\n",
    "\n",
    "import numpy as np\n",
    "import tensorflow as tf\n",
    "from sklearn.model_selection import train_test_split\n",
    "\n",
    "RANDOM_SEED = 42"
   ]
  },
  {
   "cell_type": "markdown",
   "metadata": {},
   "source": [
    "# 各パス指定"
   ]
  },
  {
   "cell_type": "code",
   "execution_count": 520,
   "metadata": {},
   "outputs": [],
   "source": [
    "dataset = 'model/keypoint_classifier/keypoint.csv'\n",
    "model_save_path = 'model/keypoint_classifier/keypoint_classifier.hdf5'\n",
    "tflite_save_path = 'model/keypoint_classifier/keypoint_classifier.tflite'"
   ]
  },
  {
   "cell_type": "markdown",
   "metadata": {},
   "source": [
    "# 分類数設定"
   ]
  },
  {
   "cell_type": "code",
   "execution_count": 521,
   "metadata": {},
   "outputs": [],
   "source": [
    "NUM_CLASSES = 4"
   ]
  },
  {
   "cell_type": "markdown",
   "metadata": {},
   "source": [
    "# 学習データ読み込み"
   ]
  },
  {
   "cell_type": "code",
   "execution_count": 522,
   "metadata": {},
   "outputs": [],
   "source": [
    "X_dataset = np.loadtxt(dataset, delimiter=',', dtype='float32', usecols=list(range(1, (21 * 2) + 1)))"
   ]
  },
  {
   "cell_type": "code",
   "execution_count": 523,
   "metadata": {},
   "outputs": [],
   "source": [
    "y_dataset = np.loadtxt(dataset, delimiter=',', dtype='int32', usecols=(0))"
   ]
  },
  {
   "cell_type": "code",
   "execution_count": 524,
   "metadata": {},
   "outputs": [],
   "source": [
    "X_train, X_test, y_train, y_test = train_test_split(X_dataset, y_dataset, train_size=0.75, random_state=RANDOM_SEED)"
   ]
  },
  {
   "cell_type": "markdown",
   "metadata": {},
   "source": [
    "# モデル構築"
   ]
  },
  {
   "cell_type": "code",
   "execution_count": 525,
   "metadata": {},
   "outputs": [],
   "source": [
    "model = tf.keras.models.Sequential([\n",
    "    tf.keras.layers.Input((21 * 2, )),\n",
    "    tf.keras.layers.Dense(255, activation='relu'),\n",
    "    tf.keras.layers.Dropout(0.4),\n",
    "    tf.keras.layers.Dense(512, activation='relu'),\n",
    "    tf.keras.layers.Dropout(0.4),\n",
    "    tf.keras.layers.Dense(64, activation='relu'),\n",
    "    tf.keras.layers.Dropout(0.2),\n",
    "    tf.keras.layers.Dense(NUM_CLASSES, activation='softmax')\n",
    "])"
   ]
  },
  {
   "cell_type": "code",
   "execution_count": 526,
   "metadata": {},
   "outputs": [
    {
     "name": "stdout",
     "output_type": "stream",
     "text": [
      "Model: \"sequential_24\"\n",
      "_________________________________________________________________\n",
      " Layer (type)                Output Shape              Param #   \n",
      "=================================================================\n",
      " dense_98 (Dense)            (None, 255)               10965     \n",
      "                                                                 \n",
      " dropout_76 (Dropout)        (None, 255)               0         \n",
      "                                                                 \n",
      " dense_99 (Dense)            (None, 512)               131072    \n",
      "                                                                 \n",
      " dropout_77 (Dropout)        (None, 512)               0         \n",
      "                                                                 \n",
      " dense_100 (Dense)           (None, 64)                32832     \n",
      "                                                                 \n",
      " dropout_78 (Dropout)        (None, 64)                0         \n",
      "                                                                 \n",
      " dense_101 (Dense)           (None, 4)                 260       \n",
      "                                                                 \n",
      "=================================================================\n",
      "Total params: 175,129\n",
      "Trainable params: 175,129\n",
      "Non-trainable params: 0\n",
      "_________________________________________________________________\n"
     ]
    }
   ],
   "source": [
    "model.summary()  # tf.keras.utils.plot_model(model, show_shapes=True)"
   ]
  },
  {
   "cell_type": "code",
   "execution_count": 527,
   "metadata": {},
   "outputs": [],
   "source": [
    "# モデルチェックポイントのコールバック\n",
    "cp_callback = tf.keras.callbacks.ModelCheckpoint(\n",
    "    model_save_path, verbose=1, save_weights_only=False)\n",
    "# 早期打ち切り用コールバック\n",
    "es_callback = tf.keras.callbacks.EarlyStopping(patience=20, verbose=1)"
   ]
  },
  {
   "cell_type": "code",
   "execution_count": 528,
   "metadata": {},
   "outputs": [],
   "source": [
    "# モデルコンパイル\n",
    "model.compile(\n",
    "    optimizer='adam',\n",
    "    loss='sparse_categorical_crossentropy',\n",
    "    metrics=['accuracy']\n",
    ")"
   ]
  },
  {
   "cell_type": "markdown",
   "metadata": {},
   "source": [
    "# モデル訓練"
   ]
  },
  {
   "cell_type": "code",
   "execution_count": 529,
   "metadata": {
    "scrolled": true
   },
   "outputs": [
    {
     "name": "stdout",
     "output_type": "stream",
     "text": [
      "Epoch 1/1000\n",
      "21/22 [===========================>..] - ETA: 0s - loss: 1.2452 - accuracy: 0.4405\n",
      "Epoch 1: saving model to model/keypoint_classifier\\keypoint_classifier.hdf5\n",
      "22/22 [==============================] - 1s 15ms/step - loss: 1.2449 - accuracy: 0.4407 - val_loss: 0.8451 - val_accuracy: 0.7370\n",
      "Epoch 2/1000\n",
      "12/22 [===============>..............] - ETA: 0s - loss: 0.8527 - accuracy: 0.6035\n",
      "Epoch 2: saving model to model/keypoint_classifier\\keypoint_classifier.hdf5\n",
      "22/22 [==============================] - 0s 8ms/step - loss: 0.7955 - accuracy: 0.6281 - val_loss: 0.5765 - val_accuracy: 0.7736\n",
      "Epoch 3/1000\n",
      "12/22 [===============>..............] - ETA: 0s - loss: 0.6074 - accuracy: 0.7402\n",
      "Epoch 3: saving model to model/keypoint_classifier\\keypoint_classifier.hdf5\n",
      "22/22 [==============================] - 0s 8ms/step - loss: 0.5742 - accuracy: 0.7585 - val_loss: 0.3735 - val_accuracy: 0.9034\n",
      "Epoch 4/1000\n",
      "12/22 [===============>..............] - ETA: 0s - loss: 0.4181 - accuracy: 0.8372\n",
      "Epoch 4: saving model to model/keypoint_classifier\\keypoint_classifier.hdf5\n",
      "22/22 [==============================] - 0s 8ms/step - loss: 0.4098 - accuracy: 0.8374 - val_loss: 0.3096 - val_accuracy: 0.8846\n",
      "Epoch 5/1000\n",
      "21/22 [===========================>..] - ETA: 0s - loss: 0.3310 - accuracy: 0.8795\n",
      "Epoch 5: saving model to model/keypoint_classifier\\keypoint_classifier.hdf5\n",
      "22/22 [==============================] - 0s 9ms/step - loss: 0.3306 - accuracy: 0.8796 - val_loss: 0.1871 - val_accuracy: 0.9445\n",
      "Epoch 6/1000\n",
      "12/22 [===============>..............] - ETA: 0s - loss: 0.2515 - accuracy: 0.9141\n",
      "Epoch 6: saving model to model/keypoint_classifier\\keypoint_classifier.hdf5\n",
      "22/22 [==============================] - 0s 8ms/step - loss: 0.2444 - accuracy: 0.9133 - val_loss: 0.1543 - val_accuracy: 0.9445\n",
      "Epoch 7/1000\n",
      "19/22 [========================>.....] - ETA: 0s - loss: 0.2424 - accuracy: 0.9095\n",
      "Epoch 7: saving model to model/keypoint_classifier\\keypoint_classifier.hdf5\n",
      "22/22 [==============================] - 0s 11ms/step - loss: 0.2359 - accuracy: 0.9122 - val_loss: 0.1418 - val_accuracy: 0.9634\n",
      "Epoch 8/1000\n",
      "11/22 [==============>...............] - ETA: 0s - loss: 0.1889 - accuracy: 0.9311\n",
      "Epoch 8: saving model to model/keypoint_classifier\\keypoint_classifier.hdf5\n",
      "22/22 [==============================] - 0s 8ms/step - loss: 0.1884 - accuracy: 0.9326 - val_loss: 0.1510 - val_accuracy: 0.9356\n",
      "Epoch 9/1000\n",
      "11/22 [==============>...............] - ETA: 0s - loss: 0.1533 - accuracy: 0.9538\n",
      "Epoch 9: saving model to model/keypoint_classifier\\keypoint_classifier.hdf5\n",
      "22/22 [==============================] - 0s 8ms/step - loss: 0.1565 - accuracy: 0.9441 - val_loss: 0.1021 - val_accuracy: 0.9734\n",
      "Epoch 10/1000\n",
      "12/22 [===============>..............] - ETA: 0s - loss: 0.1631 - accuracy: 0.9434\n",
      "Epoch 10: saving model to model/keypoint_classifier\\keypoint_classifier.hdf5\n",
      "22/22 [==============================] - 0s 8ms/step - loss: 0.1488 - accuracy: 0.9474 - val_loss: 0.0960 - val_accuracy: 0.9645\n",
      "Epoch 11/1000\n",
      "20/22 [==========================>...] - ETA: 0s - loss: 0.1340 - accuracy: 0.9492\n",
      "Epoch 11: saving model to model/keypoint_classifier\\keypoint_classifier.hdf5\n",
      "22/22 [==============================] - 0s 9ms/step - loss: 0.1315 - accuracy: 0.9500 - val_loss: 0.0815 - val_accuracy: 0.9734\n",
      "Epoch 12/1000\n",
      "22/22 [==============================] - ETA: 0s - loss: 0.1432 - accuracy: 0.9485\n",
      "Epoch 12: saving model to model/keypoint_classifier\\keypoint_classifier.hdf5\n",
      "22/22 [==============================] - 0s 9ms/step - loss: 0.1432 - accuracy: 0.9485 - val_loss: 0.1187 - val_accuracy: 0.9534\n",
      "Epoch 13/1000\n",
      "22/22 [==============================] - ETA: 0s - loss: 0.1566 - accuracy: 0.9374\n",
      "Epoch 13: saving model to model/keypoint_classifier\\keypoint_classifier.hdf5\n",
      "22/22 [==============================] - 0s 9ms/step - loss: 0.1566 - accuracy: 0.9374 - val_loss: 0.0751 - val_accuracy: 0.9834\n",
      "Epoch 14/1000\n",
      "12/22 [===============>..............] - ETA: 0s - loss: 0.1337 - accuracy: 0.9479\n",
      "Epoch 14: saving model to model/keypoint_classifier\\keypoint_classifier.hdf5\n",
      "22/22 [==============================] - 0s 8ms/step - loss: 0.1369 - accuracy: 0.9489 - val_loss: 0.0931 - val_accuracy: 0.9589\n",
      "Epoch 15/1000\n",
      "20/22 [==========================>...] - ETA: 0s - loss: 0.1089 - accuracy: 0.9645\n",
      "Epoch 15: saving model to model/keypoint_classifier\\keypoint_classifier.hdf5\n",
      "22/22 [==============================] - 0s 9ms/step - loss: 0.1114 - accuracy: 0.9630 - val_loss: 0.0657 - val_accuracy: 0.9822\n",
      "Epoch 16/1000\n",
      "11/22 [==============>...............] - ETA: 0s - loss: 0.0986 - accuracy: 0.9624\n",
      "Epoch 16: saving model to model/keypoint_classifier\\keypoint_classifier.hdf5\n",
      "22/22 [==============================] - 0s 7ms/step - loss: 0.1082 - accuracy: 0.9600 - val_loss: 0.0832 - val_accuracy: 0.9711\n",
      "Epoch 17/1000\n",
      "11/22 [==============>...............] - ETA: 0s - loss: 0.1346 - accuracy: 0.9510\n",
      "Epoch 17: saving model to model/keypoint_classifier\\keypoint_classifier.hdf5\n",
      "22/22 [==============================] - 0s 8ms/step - loss: 0.1223 - accuracy: 0.9574 - val_loss: 0.0640 - val_accuracy: 0.9767\n",
      "Epoch 18/1000\n",
      "12/22 [===============>..............] - ETA: 0s - loss: 0.0898 - accuracy: 0.9674\n",
      "Epoch 18: saving model to model/keypoint_classifier\\keypoint_classifier.hdf5\n",
      "22/22 [==============================] - 0s 8ms/step - loss: 0.0938 - accuracy: 0.9648 - val_loss: 0.0590 - val_accuracy: 0.9778\n",
      "Epoch 19/1000\n",
      "11/22 [==============>...............] - ETA: 0s - loss: 0.0927 - accuracy: 0.9616\n",
      "Epoch 19: saving model to model/keypoint_classifier\\keypoint_classifier.hdf5\n",
      "22/22 [==============================] - 0s 8ms/step - loss: 0.0963 - accuracy: 0.9633 - val_loss: 0.1177 - val_accuracy: 0.9478\n",
      "Epoch 20/1000\n",
      "11/22 [==============>...............] - ETA: 0s - loss: 0.1200 - accuracy: 0.9574\n",
      "Epoch 20: saving model to model/keypoint_classifier\\keypoint_classifier.hdf5\n",
      "22/22 [==============================] - 0s 8ms/step - loss: 0.1070 - accuracy: 0.9633 - val_loss: 0.0523 - val_accuracy: 0.9834\n",
      "Epoch 21/1000\n",
      "21/22 [===========================>..] - ETA: 0s - loss: 0.0851 - accuracy: 0.9684\n",
      "Epoch 21: saving model to model/keypoint_classifier\\keypoint_classifier.hdf5\n",
      "22/22 [==============================] - 0s 9ms/step - loss: 0.0849 - accuracy: 0.9685 - val_loss: 0.0569 - val_accuracy: 0.9900\n",
      "Epoch 22/1000\n",
      "22/22 [==============================] - ETA: 0s - loss: 0.0751 - accuracy: 0.9722\n",
      "Epoch 22: saving model to model/keypoint_classifier\\keypoint_classifier.hdf5\n",
      "22/22 [==============================] - 0s 9ms/step - loss: 0.0751 - accuracy: 0.9722 - val_loss: 0.0507 - val_accuracy: 0.9800\n",
      "Epoch 23/1000\n",
      "22/22 [==============================] - ETA: 0s - loss: 0.0816 - accuracy: 0.9707\n",
      "Epoch 23: saving model to model/keypoint_classifier\\keypoint_classifier.hdf5\n",
      "22/22 [==============================] - 0s 8ms/step - loss: 0.0816 - accuracy: 0.9707 - val_loss: 0.0955 - val_accuracy: 0.9667\n",
      "Epoch 24/1000\n",
      "21/22 [===========================>..] - ETA: 0s - loss: 0.1017 - accuracy: 0.9628\n",
      "Epoch 24: saving model to model/keypoint_classifier\\keypoint_classifier.hdf5\n",
      "22/22 [==============================] - 0s 9ms/step - loss: 0.1013 - accuracy: 0.9630 - val_loss: 0.0396 - val_accuracy: 0.9889\n",
      "Epoch 25/1000\n",
      "22/22 [==============================] - ETA: 0s - loss: 0.0741 - accuracy: 0.9719\n",
      "Epoch 25: saving model to model/keypoint_classifier\\keypoint_classifier.hdf5\n",
      "22/22 [==============================] - 0s 9ms/step - loss: 0.0741 - accuracy: 0.9719 - val_loss: 0.0535 - val_accuracy: 0.9845\n",
      "Epoch 26/1000\n",
      "12/22 [===============>..............] - ETA: 0s - loss: 0.1011 - accuracy: 0.9635\n",
      "Epoch 26: saving model to model/keypoint_classifier\\keypoint_classifier.hdf5\n",
      "22/22 [==============================] - 0s 8ms/step - loss: 0.0890 - accuracy: 0.9674 - val_loss: 0.0420 - val_accuracy: 0.9922\n",
      "Epoch 27/1000\n",
      "21/22 [===========================>..] - ETA: 0s - loss: 0.0814 - accuracy: 0.9688\n",
      "Epoch 27: saving model to model/keypoint_classifier\\keypoint_classifier.hdf5\n",
      "22/22 [==============================] - 0s 9ms/step - loss: 0.0814 - accuracy: 0.9689 - val_loss: 0.0444 - val_accuracy: 0.9856\n",
      "Epoch 28/1000\n",
      "21/22 [===========================>..] - ETA: 0s - loss: 0.0791 - accuracy: 0.9740\n",
      "Epoch 28: saving model to model/keypoint_classifier\\keypoint_classifier.hdf5\n",
      "22/22 [==============================] - 0s 8ms/step - loss: 0.0790 - accuracy: 0.9741 - val_loss: 0.0349 - val_accuracy: 0.9878\n",
      "Epoch 29/1000\n",
      "11/22 [==============>...............] - ETA: 0s - loss: 0.0587 - accuracy: 0.9808\n",
      "Epoch 29: saving model to model/keypoint_classifier\\keypoint_classifier.hdf5\n",
      "22/22 [==============================] - 0s 8ms/step - loss: 0.0582 - accuracy: 0.9822 - val_loss: 0.0410 - val_accuracy: 0.9856\n",
      "Epoch 30/1000\n",
      "12/22 [===============>..............] - ETA: 0s - loss: 0.0684 - accuracy: 0.9759\n",
      "Epoch 30: saving model to model/keypoint_classifier\\keypoint_classifier.hdf5\n",
      "22/22 [==============================] - 0s 8ms/step - loss: 0.0816 - accuracy: 0.9696 - val_loss: 0.0691 - val_accuracy: 0.9723\n",
      "Epoch 31/1000\n",
      "22/22 [==============================] - ETA: 0s - loss: 0.0761 - accuracy: 0.9693\n",
      "Epoch 31: saving model to model/keypoint_classifier\\keypoint_classifier.hdf5\n",
      "22/22 [==============================] - 0s 9ms/step - loss: 0.0761 - accuracy: 0.9693 - val_loss: 0.0282 - val_accuracy: 0.9945\n",
      "Epoch 32/1000\n",
      "21/22 [===========================>..] - ETA: 0s - loss: 0.0712 - accuracy: 0.9758\n",
      "Epoch 32: saving model to model/keypoint_classifier\\keypoint_classifier.hdf5\n",
      "22/22 [==============================] - 0s 9ms/step - loss: 0.0711 - accuracy: 0.9759 - val_loss: 0.0379 - val_accuracy: 0.9867\n",
      "Epoch 33/1000\n",
      "18/22 [=======================>......] - ETA: 0s - loss: 0.0874 - accuracy: 0.9661\n",
      "Epoch 33: saving model to model/keypoint_classifier\\keypoint_classifier.hdf5\n",
      "22/22 [==============================] - 0s 11ms/step - loss: 0.0886 - accuracy: 0.9656 - val_loss: 0.0360 - val_accuracy: 0.9911\n",
      "Epoch 34/1000\n",
      "20/22 [==========================>...] - ETA: 0s - loss: 0.0879 - accuracy: 0.9680\n",
      "Epoch 34: saving model to model/keypoint_classifier\\keypoint_classifier.hdf5\n",
      "22/22 [==============================] - 0s 9ms/step - loss: 0.0871 - accuracy: 0.9681 - val_loss: 0.0498 - val_accuracy: 0.9867\n",
      "Epoch 35/1000\n",
      "21/22 [===========================>..] - ETA: 0s - loss: 0.0700 - accuracy: 0.9747\n",
      "Epoch 35: saving model to model/keypoint_classifier\\keypoint_classifier.hdf5\n",
      "22/22 [==============================] - 0s 8ms/step - loss: 0.0698 - accuracy: 0.9748 - val_loss: 0.0459 - val_accuracy: 0.9878\n",
      "Epoch 36/1000\n",
      "21/22 [===========================>..] - ETA: 0s - loss: 0.0887 - accuracy: 0.9673\n",
      "Epoch 36: saving model to model/keypoint_classifier\\keypoint_classifier.hdf5\n",
      "22/22 [==============================] - 0s 9ms/step - loss: 0.0884 - accuracy: 0.9674 - val_loss: 0.0790 - val_accuracy: 0.9667\n",
      "Epoch 37/1000\n",
      "22/22 [==============================] - ETA: 0s - loss: 0.0760 - accuracy: 0.9741\n",
      "Epoch 37: saving model to model/keypoint_classifier\\keypoint_classifier.hdf5\n",
      "22/22 [==============================] - 0s 9ms/step - loss: 0.0760 - accuracy: 0.9741 - val_loss: 0.0385 - val_accuracy: 0.9911\n",
      "Epoch 38/1000\n",
      "12/22 [===============>..............] - ETA: 0s - loss: 0.0753 - accuracy: 0.9746\n",
      "Epoch 38: saving model to model/keypoint_classifier\\keypoint_classifier.hdf5\n",
      "22/22 [==============================] - 0s 8ms/step - loss: 0.0663 - accuracy: 0.9785 - val_loss: 0.0437 - val_accuracy: 0.9889\n",
      "Epoch 39/1000\n",
      "12/22 [===============>..............] - ETA: 0s - loss: 0.0833 - accuracy: 0.9655\n",
      "Epoch 39: saving model to model/keypoint_classifier\\keypoint_classifier.hdf5\n",
      "22/22 [==============================] - 0s 8ms/step - loss: 0.0722 - accuracy: 0.9715 - val_loss: 0.0335 - val_accuracy: 0.9911\n",
      "Epoch 40/1000\n",
      "22/22 [==============================] - ETA: 0s - loss: 0.0565 - accuracy: 0.9807\n",
      "Epoch 40: saving model to model/keypoint_classifier\\keypoint_classifier.hdf5\n",
      "22/22 [==============================] - 0s 9ms/step - loss: 0.0565 - accuracy: 0.9807 - val_loss: 0.0297 - val_accuracy: 0.9945\n",
      "Epoch 41/1000\n",
      "12/22 [===============>..............] - ETA: 0s - loss: 0.0458 - accuracy: 0.9844\n",
      "Epoch 41: saving model to model/keypoint_classifier\\keypoint_classifier.hdf5\n",
      "22/22 [==============================] - 0s 8ms/step - loss: 0.0566 - accuracy: 0.9789 - val_loss: 0.0242 - val_accuracy: 0.9945\n",
      "Epoch 42/1000\n",
      "22/22 [==============================] - ETA: 0s - loss: 0.0470 - accuracy: 0.9863\n",
      "Epoch 42: saving model to model/keypoint_classifier\\keypoint_classifier.hdf5\n",
      "22/22 [==============================] - 0s 8ms/step - loss: 0.0470 - accuracy: 0.9863 - val_loss: 0.0272 - val_accuracy: 0.9922\n",
      "Epoch 43/1000\n",
      "21/22 [===========================>..] - ETA: 0s - loss: 0.0518 - accuracy: 0.9833\n",
      "Epoch 43: saving model to model/keypoint_classifier\\keypoint_classifier.hdf5\n",
      "22/22 [==============================] - 0s 9ms/step - loss: 0.0527 - accuracy: 0.9826 - val_loss: 0.0453 - val_accuracy: 0.9800\n",
      "Epoch 44/1000\n",
      "21/22 [===========================>..] - ETA: 0s - loss: 0.1096 - accuracy: 0.9591\n",
      "Epoch 44: saving model to model/keypoint_classifier\\keypoint_classifier.hdf5\n",
      "22/22 [==============================] - 0s 9ms/step - loss: 0.1092 - accuracy: 0.9593 - val_loss: 0.0766 - val_accuracy: 0.9656\n",
      "Epoch 45/1000\n",
      "12/22 [===============>..............] - ETA: 0s - loss: 0.0649 - accuracy: 0.9753\n",
      "Epoch 45: saving model to model/keypoint_classifier\\keypoint_classifier.hdf5\n",
      "22/22 [==============================] - 0s 8ms/step - loss: 0.0771 - accuracy: 0.9730 - val_loss: 0.0336 - val_accuracy: 0.9900\n",
      "Epoch 46/1000\n",
      "21/22 [===========================>..] - ETA: 0s - loss: 0.0697 - accuracy: 0.9743\n",
      "Epoch 46: saving model to model/keypoint_classifier\\keypoint_classifier.hdf5\n",
      "22/22 [==============================] - 0s 9ms/step - loss: 0.0698 - accuracy: 0.9744 - val_loss: 0.0683 - val_accuracy: 0.9723\n",
      "Epoch 47/1000\n",
      "20/22 [==========================>...] - ETA: 0s - loss: 0.0797 - accuracy: 0.9734\n",
      "Epoch 47: saving model to model/keypoint_classifier\\keypoint_classifier.hdf5\n",
      "22/22 [==============================] - 0s 9ms/step - loss: 0.0778 - accuracy: 0.9741 - val_loss: 0.0317 - val_accuracy: 0.9922\n",
      "Epoch 48/1000\n",
      "21/22 [===========================>..] - ETA: 0s - loss: 0.0503 - accuracy: 0.9821\n",
      "Epoch 48: saving model to model/keypoint_classifier\\keypoint_classifier.hdf5\n",
      "22/22 [==============================] - 0s 9ms/step - loss: 0.0502 - accuracy: 0.9822 - val_loss: 0.0260 - val_accuracy: 0.9900\n",
      "Epoch 49/1000\n",
      "21/22 [===========================>..] - ETA: 0s - loss: 0.0532 - accuracy: 0.9803\n",
      "Epoch 49: saving model to model/keypoint_classifier\\keypoint_classifier.hdf5\n",
      "22/22 [==============================] - 0s 9ms/step - loss: 0.0530 - accuracy: 0.9804 - val_loss: 0.0258 - val_accuracy: 0.9922\n",
      "Epoch 50/1000\n",
      "22/22 [==============================] - ETA: 0s - loss: 0.0520 - accuracy: 0.9804\n",
      "Epoch 50: saving model to model/keypoint_classifier\\keypoint_classifier.hdf5\n",
      "22/22 [==============================] - 0s 8ms/step - loss: 0.0520 - accuracy: 0.9804 - val_loss: 0.0227 - val_accuracy: 0.9911\n",
      "Epoch 51/1000\n",
      "20/22 [==========================>...] - ETA: 0s - loss: 0.0583 - accuracy: 0.9777\n",
      "Epoch 51: saving model to model/keypoint_classifier\\keypoint_classifier.hdf5\n",
      "22/22 [==============================] - 0s 9ms/step - loss: 0.0567 - accuracy: 0.9785 - val_loss: 0.0662 - val_accuracy: 0.9678\n",
      "Epoch 52/1000\n",
      "21/22 [===========================>..] - ETA: 0s - loss: 0.0739 - accuracy: 0.9736\n",
      "Epoch 52: saving model to model/keypoint_classifier\\keypoint_classifier.hdf5\n",
      "22/22 [==============================] - 0s 8ms/step - loss: 0.0739 - accuracy: 0.9733 - val_loss: 0.0252 - val_accuracy: 0.9945\n",
      "Epoch 53/1000\n",
      "21/22 [===========================>..] - ETA: 0s - loss: 0.0752 - accuracy: 0.9766\n",
      "Epoch 53: saving model to model/keypoint_classifier\\keypoint_classifier.hdf5\n",
      "22/22 [==============================] - 0s 8ms/step - loss: 0.0750 - accuracy: 0.9767 - val_loss: 0.0303 - val_accuracy: 0.9900\n",
      "Epoch 54/1000\n",
      "20/22 [==========================>...] - ETA: 0s - loss: 0.0681 - accuracy: 0.9750\n",
      "Epoch 54: saving model to model/keypoint_classifier\\keypoint_classifier.hdf5\n",
      "22/22 [==============================] - 0s 9ms/step - loss: 0.0694 - accuracy: 0.9744 - val_loss: 0.0408 - val_accuracy: 0.9889\n",
      "Epoch 55/1000\n",
      "21/22 [===========================>..] - ETA: 0s - loss: 0.1029 - accuracy: 0.9661\n",
      "Epoch 55: saving model to model/keypoint_classifier\\keypoint_classifier.hdf5\n",
      "22/22 [==============================] - 0s 9ms/step - loss: 0.1026 - accuracy: 0.9663 - val_loss: 0.0359 - val_accuracy: 0.9878\n",
      "Epoch 56/1000\n",
      "20/22 [==========================>...] - ETA: 0s - loss: 0.0644 - accuracy: 0.9766\n",
      "Epoch 56: saving model to model/keypoint_classifier\\keypoint_classifier.hdf5\n",
      "22/22 [==============================] - 0s 10ms/step - loss: 0.0632 - accuracy: 0.9770 - val_loss: 0.0259 - val_accuracy: 0.9945\n",
      "Epoch 57/1000\n",
      "21/22 [===========================>..] - ETA: 0s - loss: 0.0506 - accuracy: 0.9840\n",
      "Epoch 57: saving model to model/keypoint_classifier\\keypoint_classifier.hdf5\n",
      "22/22 [==============================] - 0s 8ms/step - loss: 0.0506 - accuracy: 0.9841 - val_loss: 0.0337 - val_accuracy: 0.9889\n",
      "Epoch 58/1000\n",
      "21/22 [===========================>..] - ETA: 0s - loss: 0.0586 - accuracy: 0.9810\n",
      "Epoch 58: saving model to model/keypoint_classifier\\keypoint_classifier.hdf5\n",
      "22/22 [==============================] - 0s 9ms/step - loss: 0.0583 - accuracy: 0.9811 - val_loss: 0.0209 - val_accuracy: 0.9945\n",
      "Epoch 59/1000\n",
      "21/22 [===========================>..] - ETA: 0s - loss: 0.0437 - accuracy: 0.9859\n",
      "Epoch 59: saving model to model/keypoint_classifier\\keypoint_classifier.hdf5\n",
      "22/22 [==============================] - 0s 9ms/step - loss: 0.0437 - accuracy: 0.9859 - val_loss: 0.0208 - val_accuracy: 0.9933\n",
      "Epoch 60/1000\n",
      "22/22 [==============================] - ETA: 0s - loss: 0.0552 - accuracy: 0.9830\n",
      "Epoch 60: saving model to model/keypoint_classifier\\keypoint_classifier.hdf5\n",
      "22/22 [==============================] - 0s 8ms/step - loss: 0.0552 - accuracy: 0.9830 - val_loss: 0.0345 - val_accuracy: 0.9889\n",
      "Epoch 61/1000\n",
      "22/22 [==============================] - ETA: 0s - loss: 0.0533 - accuracy: 0.9822\n",
      "Epoch 61: saving model to model/keypoint_classifier\\keypoint_classifier.hdf5\n",
      "22/22 [==============================] - 0s 9ms/step - loss: 0.0533 - accuracy: 0.9822 - val_loss: 0.0334 - val_accuracy: 0.9889\n",
      "Epoch 62/1000\n",
      "11/22 [==============>...............] - ETA: 0s - loss: 0.0494 - accuracy: 0.9872\n",
      "Epoch 62: saving model to model/keypoint_classifier\\keypoint_classifier.hdf5\n",
      "22/22 [==============================] - 0s 9ms/step - loss: 0.0503 - accuracy: 0.9859 - val_loss: 0.0390 - val_accuracy: 0.9822\n",
      "Epoch 63/1000\n",
      "11/22 [==============>...............] - ETA: 0s - loss: 0.0571 - accuracy: 0.9751\n",
      "Epoch 63: saving model to model/keypoint_classifier\\keypoint_classifier.hdf5\n",
      "22/22 [==============================] - 0s 8ms/step - loss: 0.0612 - accuracy: 0.9756 - val_loss: 0.0370 - val_accuracy: 0.9867\n",
      "Epoch 64/1000\n",
      "21/22 [===========================>..] - ETA: 0s - loss: 0.0609 - accuracy: 0.9766\n",
      "Epoch 64: saving model to model/keypoint_classifier\\keypoint_classifier.hdf5\n",
      "22/22 [==============================] - 0s 8ms/step - loss: 0.0608 - accuracy: 0.9767 - val_loss: 0.0300 - val_accuracy: 0.9922\n",
      "Epoch 65/1000\n",
      "21/22 [===========================>..] - ETA: 0s - loss: 0.0861 - accuracy: 0.9691\n",
      "Epoch 65: saving model to model/keypoint_classifier\\keypoint_classifier.hdf5\n",
      "22/22 [==============================] - 0s 9ms/step - loss: 0.0858 - accuracy: 0.9693 - val_loss: 0.0553 - val_accuracy: 0.9800\n",
      "Epoch 66/1000\n",
      "22/22 [==============================] - ETA: 0s - loss: 0.0616 - accuracy: 0.9807\n",
      "Epoch 66: saving model to model/keypoint_classifier\\keypoint_classifier.hdf5\n",
      "22/22 [==============================] - 0s 9ms/step - loss: 0.0616 - accuracy: 0.9807 - val_loss: 0.0238 - val_accuracy: 0.9945\n",
      "Epoch 67/1000\n",
      "12/22 [===============>..............] - ETA: 0s - loss: 0.0442 - accuracy: 0.9844\n",
      "Epoch 67: saving model to model/keypoint_classifier\\keypoint_classifier.hdf5\n",
      "22/22 [==============================] - 0s 8ms/step - loss: 0.0468 - accuracy: 0.9830 - val_loss: 0.0434 - val_accuracy: 0.9867\n",
      "Epoch 68/1000\n",
      "21/22 [===========================>..] - ETA: 0s - loss: 0.0609 - accuracy: 0.9784\n",
      "Epoch 68: saving model to model/keypoint_classifier\\keypoint_classifier.hdf5\n",
      "22/22 [==============================] - 0s 9ms/step - loss: 0.0607 - accuracy: 0.9785 - val_loss: 0.0456 - val_accuracy: 0.9867\n",
      "Epoch 69/1000\n",
      "22/22 [==============================] - ETA: 0s - loss: 0.0490 - accuracy: 0.9833\n",
      "Epoch 69: saving model to model/keypoint_classifier\\keypoint_classifier.hdf5\n",
      "22/22 [==============================] - 0s 9ms/step - loss: 0.0490 - accuracy: 0.9833 - val_loss: 0.0216 - val_accuracy: 0.9967\n",
      "Epoch 70/1000\n",
      "22/22 [==============================] - ETA: 0s - loss: 0.0364 - accuracy: 0.9863\n",
      "Epoch 70: saving model to model/keypoint_classifier\\keypoint_classifier.hdf5\n",
      "22/22 [==============================] - 0s 9ms/step - loss: 0.0364 - accuracy: 0.9863 - val_loss: 0.0190 - val_accuracy: 0.9956\n",
      "Epoch 71/1000\n",
      "22/22 [==============================] - ETA: 0s - loss: 0.0416 - accuracy: 0.9859\n",
      "Epoch 71: saving model to model/keypoint_classifier\\keypoint_classifier.hdf5\n",
      "22/22 [==============================] - 0s 9ms/step - loss: 0.0416 - accuracy: 0.9859 - val_loss: 0.0317 - val_accuracy: 0.9922\n",
      "Epoch 72/1000\n",
      "21/22 [===========================>..] - ETA: 0s - loss: 0.0347 - accuracy: 0.9847\n",
      "Epoch 72: saving model to model/keypoint_classifier\\keypoint_classifier.hdf5\n",
      "22/22 [==============================] - 0s 9ms/step - loss: 0.0346 - accuracy: 0.9848 - val_loss: 0.0146 - val_accuracy: 0.9978\n",
      "Epoch 73/1000\n",
      "22/22 [==============================] - ETA: 0s - loss: 0.0415 - accuracy: 0.9859\n",
      "Epoch 73: saving model to model/keypoint_classifier\\keypoint_classifier.hdf5\n",
      "22/22 [==============================] - 0s 9ms/step - loss: 0.0415 - accuracy: 0.9859 - val_loss: 0.0449 - val_accuracy: 0.9834\n",
      "Epoch 74/1000\n",
      "21/22 [===========================>..] - ETA: 0s - loss: 0.0414 - accuracy: 0.9866\n",
      "Epoch 74: saving model to model/keypoint_classifier\\keypoint_classifier.hdf5\n",
      "22/22 [==============================] - 0s 9ms/step - loss: 0.0412 - accuracy: 0.9867 - val_loss: 0.0182 - val_accuracy: 0.9967\n",
      "Epoch 75/1000\n",
      "22/22 [==============================] - ETA: 0s - loss: 0.0356 - accuracy: 0.9874\n",
      "Epoch 75: saving model to model/keypoint_classifier\\keypoint_classifier.hdf5\n",
      "22/22 [==============================] - 0s 8ms/step - loss: 0.0356 - accuracy: 0.9874 - val_loss: 0.0165 - val_accuracy: 0.9967\n",
      "Epoch 76/1000\n",
      "22/22 [==============================] - ETA: 0s - loss: 0.0353 - accuracy: 0.9904\n",
      "Epoch 76: saving model to model/keypoint_classifier\\keypoint_classifier.hdf5\n",
      "22/22 [==============================] - 0s 9ms/step - loss: 0.0353 - accuracy: 0.9904 - val_loss: 0.0280 - val_accuracy: 0.9911\n",
      "Epoch 77/1000\n",
      "21/22 [===========================>..] - ETA: 0s - loss: 0.0437 - accuracy: 0.9874\n",
      "Epoch 77: saving model to model/keypoint_classifier\\keypoint_classifier.hdf5\n",
      "22/22 [==============================] - 0s 9ms/step - loss: 0.0452 - accuracy: 0.9870 - val_loss: 0.0194 - val_accuracy: 0.9967\n",
      "Epoch 78/1000\n",
      "21/22 [===========================>..] - ETA: 0s - loss: 0.1119 - accuracy: 0.9591\n",
      "Epoch 78: saving model to model/keypoint_classifier\\keypoint_classifier.hdf5\n",
      "22/22 [==============================] - 0s 9ms/step - loss: 0.1115 - accuracy: 0.9593 - val_loss: 0.0281 - val_accuracy: 0.9922\n",
      "Epoch 79/1000\n",
      "22/22 [==============================] - ETA: 0s - loss: 0.0861 - accuracy: 0.9704\n",
      "Epoch 79: saving model to model/keypoint_classifier\\keypoint_classifier.hdf5\n",
      "22/22 [==============================] - 0s 9ms/step - loss: 0.0861 - accuracy: 0.9704 - val_loss: 0.0325 - val_accuracy: 0.9922\n",
      "Epoch 80/1000\n",
      "21/22 [===========================>..] - ETA: 0s - loss: 0.0706 - accuracy: 0.9740\n",
      "Epoch 80: saving model to model/keypoint_classifier\\keypoint_classifier.hdf5\n",
      "22/22 [==============================] - 0s 9ms/step - loss: 0.0721 - accuracy: 0.9733 - val_loss: 0.0495 - val_accuracy: 0.9845\n",
      "Epoch 81/1000\n",
      "22/22 [==============================] - ETA: 0s - loss: 0.0910 - accuracy: 0.9670\n",
      "Epoch 81: saving model to model/keypoint_classifier\\keypoint_classifier.hdf5\n",
      "22/22 [==============================] - 0s 8ms/step - loss: 0.0910 - accuracy: 0.9670 - val_loss: 0.0275 - val_accuracy: 0.9956\n",
      "Epoch 82/1000\n",
      "20/22 [==========================>...] - ETA: 0s - loss: 0.0832 - accuracy: 0.9707\n",
      "Epoch 82: saving model to model/keypoint_classifier\\keypoint_classifier.hdf5\n",
      "22/22 [==============================] - 0s 9ms/step - loss: 0.0829 - accuracy: 0.9707 - val_loss: 0.0330 - val_accuracy: 0.9911\n",
      "Epoch 83/1000\n",
      "21/22 [===========================>..] - ETA: 0s - loss: 0.0583 - accuracy: 0.9807\n",
      "Epoch 83: saving model to model/keypoint_classifier\\keypoint_classifier.hdf5\n",
      "22/22 [==============================] - 0s 9ms/step - loss: 0.0581 - accuracy: 0.9807 - val_loss: 0.0216 - val_accuracy: 0.9933\n",
      "Epoch 84/1000\n",
      "21/22 [===========================>..] - ETA: 0s - loss: 0.0512 - accuracy: 0.9829\n",
      "Epoch 84: saving model to model/keypoint_classifier\\keypoint_classifier.hdf5\n",
      "22/22 [==============================] - 0s 9ms/step - loss: 0.0531 - accuracy: 0.9822 - val_loss: 0.1026 - val_accuracy: 0.9667\n",
      "Epoch 85/1000\n",
      "21/22 [===========================>..] - ETA: 0s - loss: 0.1536 - accuracy: 0.9427\n",
      "Epoch 85: saving model to model/keypoint_classifier\\keypoint_classifier.hdf5\n",
      "22/22 [==============================] - 0s 9ms/step - loss: 0.1540 - accuracy: 0.9426 - val_loss: 0.0558 - val_accuracy: 0.9767\n",
      "Epoch 86/1000\n",
      "20/22 [==========================>...] - ETA: 0s - loss: 0.1279 - accuracy: 0.9496\n",
      "Epoch 86: saving model to model/keypoint_classifier\\keypoint_classifier.hdf5\n",
      "22/22 [==============================] - 0s 9ms/step - loss: 0.1279 - accuracy: 0.9496 - val_loss: 0.0533 - val_accuracy: 0.9856\n",
      "Epoch 87/1000\n",
      "21/22 [===========================>..] - ETA: 0s - loss: 0.0963 - accuracy: 0.9650\n",
      "Epoch 87: saving model to model/keypoint_classifier\\keypoint_classifier.hdf5\n",
      "22/22 [==============================] - 0s 9ms/step - loss: 0.0960 - accuracy: 0.9652 - val_loss: 0.0464 - val_accuracy: 0.9867\n",
      "Epoch 88/1000\n",
      "21/22 [===========================>..] - ETA: 0s - loss: 0.0614 - accuracy: 0.9814\n",
      "Epoch 88: saving model to model/keypoint_classifier\\keypoint_classifier.hdf5\n",
      "22/22 [==============================] - 0s 9ms/step - loss: 0.0613 - accuracy: 0.9815 - val_loss: 0.0335 - val_accuracy: 0.9911\n",
      "Epoch 89/1000\n",
      "21/22 [===========================>..] - ETA: 0s - loss: 0.0484 - accuracy: 0.9836\n",
      "Epoch 89: saving model to model/keypoint_classifier\\keypoint_classifier.hdf5\n",
      "22/22 [==============================] - 0s 9ms/step - loss: 0.0482 - accuracy: 0.9837 - val_loss: 0.0228 - val_accuracy: 0.9967\n",
      "Epoch 90/1000\n",
      "20/22 [==========================>...] - ETA: 0s - loss: 0.0385 - accuracy: 0.9879\n",
      "Epoch 90: saving model to model/keypoint_classifier\\keypoint_classifier.hdf5\n",
      "22/22 [==============================] - 0s 9ms/step - loss: 0.0372 - accuracy: 0.9885 - val_loss: 0.0210 - val_accuracy: 0.9945\n",
      "Epoch 91/1000\n",
      "21/22 [===========================>..] - ETA: 0s - loss: 0.0399 - accuracy: 0.9855\n",
      "Epoch 91: saving model to model/keypoint_classifier\\keypoint_classifier.hdf5\n",
      "22/22 [==============================] - 0s 9ms/step - loss: 0.0398 - accuracy: 0.9856 - val_loss: 0.0217 - val_accuracy: 0.9956\n",
      "Epoch 92/1000\n",
      "21/22 [===========================>..] - ETA: 0s - loss: 0.0345 - accuracy: 0.9911\n",
      "Epoch 92: saving model to model/keypoint_classifier\\keypoint_classifier.hdf5\n",
      "22/22 [==============================] - 0s 9ms/step - loss: 0.0344 - accuracy: 0.9911 - val_loss: 0.0200 - val_accuracy: 0.9956\n",
      "Epoch 92: early stopping\n"
     ]
    },
    {
     "data": {
      "text/plain": [
       "<keras.callbacks.History at 0x16bd71c7fa0>"
      ]
     },
     "execution_count": 529,
     "metadata": {},
     "output_type": "execute_result"
    }
   ],
   "source": [
    "model.fit(\n",
    "    X_train,\n",
    "    y_train,\n",
    "    epochs=1000,\n",
    "    batch_size=128,\n",
    "    validation_data=(X_test, y_test),\n",
    "    callbacks=[cp_callback, es_callback]\n",
    ")"
   ]
  },
  {
   "cell_type": "code",
   "execution_count": 530,
   "metadata": {},
   "outputs": [
    {
     "name": "stdout",
     "output_type": "stream",
     "text": [
      "8/8 [==============================] - 0s 2ms/step - loss: 0.0200 - accuracy: 0.9956\n"
     ]
    }
   ],
   "source": [
    "# モデル評価\n",
    "val_loss, val_acc = model.evaluate(X_test, y_test, batch_size=128)"
   ]
  },
  {
   "cell_type": "code",
   "execution_count": 531,
   "metadata": {},
   "outputs": [],
   "source": [
    "# 保存したモデルのロード\n",
    "model = tf.keras.models.load_model(model_save_path)"
   ]
  },
  {
   "cell_type": "code",
   "execution_count": 532,
   "metadata": {},
   "outputs": [
    {
     "name": "stdout",
     "output_type": "stream",
     "text": [
      "[1.0000000e+00 2.2089401e-19 6.1127860e-23 1.9214763e-14]\n",
      "0\n"
     ]
    }
   ],
   "source": [
    "# 推論テスト\n",
    "predict_result = model.predict(np.array([X_test[0]]))\n",
    "print(np.squeeze(predict_result))\n",
    "print(np.argmax(np.squeeze(predict_result)))"
   ]
  },
  {
   "cell_type": "markdown",
   "metadata": {},
   "source": [
    "# 混同行列"
   ]
  },
  {
   "cell_type": "code",
   "execution_count": 533,
   "metadata": {},
   "outputs": [
    {
     "data": {
      "image/png": "[encoded data removed]",
      "text/plain": [
       "<Figure size 504x432 with 2 Axes>"
      ]
     },
     "metadata": {
      "needs_background": "light"
     },
     "output_type": "display_data"
    },
    {
     "name": "stdout",
     "output_type": "stream",
     "text": [
      "Classification Report\n",
      "              precision    recall  f1-score   support\n",
      "\n",
      "           0       1.00      1.00      1.00       266\n",
      "           1       0.99      1.00      0.99       226\n",
      "           2       1.00      0.99      0.99       220\n",
      "           3       1.00      1.00      1.00       189\n",
      "\n",
      "    accuracy                           1.00       901\n",
      "   macro avg       1.00      1.00      1.00       901\n",
      "weighted avg       1.00      1.00      1.00       901\n",
      "\n"
     ]
    }
   ],
   "source": [
    "import pandas as pd\n",
    "import seaborn as sns\n",
    "import matplotlib.pyplot as plt\n",
    "from sklearn.metrics import confusion_matrix, classification_report\n",
    "\n",
    "def print_confusion_matrix(y_true, y_pred, report=True):\n",
    "    labels = sorted(list(set(y_true)))\n",
    "    cmx_data = confusion_matrix(y_true, y_pred, labels=labels)\n",
    "    \n",
    "    df_cmx = pd.DataFrame(cmx_data, index=labels, columns=labels)\n",
    " \n",
    "    fig, ax = plt.subplots(figsize=(7, 6))\n",
    "    sns.heatmap(df_cmx, annot=True, fmt='g' ,square=False)\n",
    "    ax.set_ylim(len(set(y_true)), 0)\n",
    "    plt.show()\n",
    "    \n",
    "    if report:\n",
    "        print('Classification Report')\n",
    "        print(classification_report(y_test, y_pred))\n",
    "\n",
    "Y_pred = model.predict(X_test)\n",
    "y_pred = np.argmax(Y_pred, axis=1)\n",
    "\n",
    "print_confusion_matrix(y_test, y_pred)"
   ]
  },
  {
   "cell_type": "markdown",
   "metadata": {},
   "source": [
    "# Tensorflow-Lite用のモデルへ変換"
   ]
  },
  {
   "cell_type": "code",
   "execution_count": 534,
   "metadata": {},
   "outputs": [],
   "source": [
    "# 推論専用のモデルとして保存\n",
    "model.save(model_save_path, include_optimizer=False)"
   ]
  },
  {
   "cell_type": "code",
   "execution_count": 535,
   "metadata": {},
   "outputs": [
    {
     "name": "stdout",
     "output_type": "stream",
     "text": [
      "INFO:tensorflow:Assets written to: C:\\Users\\you_a\\AppData\\Local\\Temp\\tmp4ehm9yyb\\assets\n"
     ]
    },
    {
     "name": "stderr",
     "output_type": "stream",
     "text": [
      "INFO:tensorflow:Assets written to: C:\\Users\\you_a\\AppData\\Local\\Temp\\tmp4ehm9yyb\\assets\n",
      "WARNING:absl:Buffer deduplication procedure will be skipped when flatbuffer library is not properly loaded\n"
     ]
    },
    {
     "data": {
      "text/plain": [
       "180944"
      ]
     },
     "execution_count": 535,
     "metadata": {},
     "output_type": "execute_result"
    }
   ],
   "source": [
    "# モデルを変換(量子化)\n",
    "converter = tf.lite.TFLiteConverter.from_keras_model(model)\n",
    "converter.optimizations = [tf.lite.Optimize.DEFAULT]\n",
    "tflite_quantized_model = converter.convert()\n",
    "\n",
    "open(tflite_save_path, 'wb').write(tflite_quantized_model)"
   ]
  },
  {
   "cell_type": "code",
   "execution_count": null,
   "metadata": {},
   "outputs": [],
   "source": [
    "converter = tf.lite.TFLiteConverter.from_saved_model(model_save_path)\n",
    "tflite_model = converter.convert()\n",
    "open(tflite_save_path, \"wb\").write(tflite_model)"
   ]
  },
  {
   "cell_type": "markdown",
   "metadata": {},
   "source": [
    "# 推論テスト"
   ]
  },
  {
   "cell_type": "code",
   "execution_count": 536,
   "metadata": {},
   "outputs": [],
   "source": [
    "interpreter = tf.lite.Interpreter(model_path=tflite_save_path)\n",
    "interpreter.allocate_tensors()"
   ]
  },
  {
   "cell_type": "code",
   "execution_count": 537,
   "metadata": {},
   "outputs": [],
   "source": [
    "# 入出力テンソルを取得\n",
    "input_details = interpreter.get_input_details()\n",
    "output_details = interpreter.get_output_details()"
   ]
  },
  {
   "cell_type": "code",
   "execution_count": 538,
   "metadata": {},
   "outputs": [],
   "source": [
    "interpreter.set_tensor(input_details[0]['index'], np.array([X_test[0]]))"
   ]
  },
  {
   "cell_type": "code",
   "execution_count": 539,
   "metadata": {
    "scrolled": true
   },
   "outputs": [
    {
     "name": "stdout",
     "output_type": "stream",
     "text": [
      "CPU times: total: 0 ns\n",
      "Wall time: 0 ns\n"
     ]
    }
   ],
   "source": [
    "%%time\n",
    "# 推論実施\n",
    "interpreter.invoke()\n",
    "tflite_results = interpreter.get_tensor(output_details[0]['index'])"
   ]
  },
  {
   "cell_type": "code",
   "execution_count": 540,
   "metadata": {},
   "outputs": [
    {
     "name": "stdout",
     "output_type": "stream",
     "text": [
      "[1.0000000e+00 1.9246735e-19 5.2842252e-23 1.8450871e-14]\n",
      "0\n"
     ]
    }
   ],
   "source": [
    "print(np.squeeze(tflite_results))\n",
    "print(np.argmax(np.squeeze(tflite_results)))"
   ]
  }
 ],
 "metadata": {
  "kernelspec": {
   "display_name": "Python 3",
   "language": "python",
   "name": "python3"
  },
  "language_info": {
   "codemirror_mode": {
    "name": "ipython",
    "version": 3
   },
   "file_extension": ".py",
   "mimetype": "text/x-python",
   "name": "python",
   "nbconvert_exporter": "python",
   "pygments_lexer": "ipython3",
   "version": "3.9.7"
  }
 },
 "nbformat": 4,
 "nbformat_minor": 4
}
